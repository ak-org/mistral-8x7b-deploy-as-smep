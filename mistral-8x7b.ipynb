{
 "cells": [
  {
   "cell_type": "code",
   "execution_count": null,
   "id": "c328f29f-0a41-4a57-bcfb-2b7d81a32b7f",
   "metadata": {},
   "outputs": [],
   "source": [
    "!pip install --upgrade --quiet sagemaker boto3 "
   ]
  },
  {
   "cell_type": "code",
   "execution_count": null,
   "id": "89e23379-5dd9-4f6a-8ad9-4cdc098f3bda",
   "metadata": {},
   "outputs": [],
   "source": [
    "import sagemaker \n",
    "import boto3 \n",
    "from sagemaker.huggingface import HuggingFaceModel,  get_huggingface_llm_image_uri\n",
    "import json\n",
    "sagemaker.__version__, boto3.__version__"
   ]
  },
  {
   "cell_type": "code",
   "execution_count": null,
   "id": "35040200-cc1f-4a7e-89d7-98a5995befef",
   "metadata": {},
   "outputs": [],
   "source": [
    "sess = sagemaker.Session()"
   ]
  },
  {
   "cell_type": "code",
   "execution_count": null,
   "id": "e1ab565b-668e-4fd9-8176-302de126f664",
   "metadata": {},
   "outputs": [],
   "source": [
    "aws_region='us-west-2'\n",
    "endpoint_name = \"mixtral-8x7b-instruct-smep\""
   ]
  },
  {
   "cell_type": "code",
   "execution_count": null,
   "id": "533e2d19-d2b8-402b-a58b-0da9ed7f2dbc",
   "metadata": {},
   "outputs": [],
   "source": [
    "sagemaker_session_bucket = sess.default_bucket()\n",
    "sagemaker_session_bucket"
   ]
  },
  {
   "cell_type": "code",
   "execution_count": null,
   "id": "d38ac8e4-5b57-4971-b4da-c2f997ff4828",
   "metadata": {},
   "outputs": [],
   "source": [
    "role = sagemaker.get_execution_role()\n",
    "role"
   ]
  },
  {
   "cell_type": "code",
   "execution_count": null,
   "id": "dc812add-902b-473f-bd35-62e95f588d8b",
   "metadata": {},
   "outputs": [],
   "source": [
    "hub = {\n",
    "    'HF_MODEL_ID' : 'mistralai/Mixtral-8x7B-Instruct-v0.1',\n",
    "    'REVISION': \"e0bbb53cee412aba95f3b3fa4fc0265b1a0788b2\", ## <<== temporary measure because of a bug in the upstream version of the model\n",
    "    'SM_NUM_GPUS': json.dumps(8)\n",
    "}"
   ]
  },
  {
   "cell_type": "code",
   "execution_count": null,
   "id": "bd4f7f74-d70e-4d28-b408-22a1444c3108",
   "metadata": {},
   "outputs": [],
   "source": [
    "## once version 1.3.3 is available, remove REVISON field in the previous cell\n",
    "mixtral_8x7b_image_uri = get_huggingface_llm_image_uri(\"huggingface\",version=\"1.3.1\") \n",
    "mixtral_8x7b_image_uri"
   ]
  },
  {
   "cell_type": "code",
   "execution_count": null,
   "id": "b1f9e156-cb56-4086-80af-c9f3d1cab9be",
   "metadata": {},
   "outputs": [],
   "source": [
    "# create Hugging Face Model Class\n",
    "mistral_8x7b_model = HuggingFaceModel(\n",
    "\timage_uri=mixtral_8x7b_image_uri,\n",
    "\tenv=hub,\n",
    "\trole=role, \n",
    ")"
   ]
  },
  {
   "cell_type": "code",
   "execution_count": null,
   "id": "0d2a2f13-79b4-44f1-9430-7c9385c55a9a",
   "metadata": {},
   "outputs": [],
   "source": [
    "# deploy model to SageMaker Inference asynchronously\n",
    "predictor = mistral_8x7b_model.deploy(\n",
    "\tinitial_instance_count=1,\n",
    "    endpoint_name = endpoint_name,\n",
    "\tinstance_type=\"ml.g5.48xlarge\",\n",
    "\tcontainer_startup_health_check_timeout=300,\n",
    "    wait=False,\n",
    "  )"
   ]
  },
  {
   "cell_type": "code",
   "execution_count": null,
   "id": "5dee4f1a-b5e7-4775-a486-f9b744901a5e",
   "metadata": {},
   "outputs": [],
   "source": [
    "smc = boto3.Session().client('sagemaker')\n"
   ]
  },
  {
   "cell_type": "code",
   "execution_count": null,
   "id": "6b1c029d-a6b8-4f60-bfc6-82025aea6bae",
   "metadata": {},
   "outputs": [],
   "source": [
    "## wait till the status changes to 'InService'\n",
    "## you can run this cell again to refresh status\n",
    "response = smc.describe_endpoint(\n",
    "    EndpointName=endpoint_name,\n",
    ")\n",
    "print(f\"{response['EndpointName']} status is {response['EndpointStatus']}\")"
   ]
  },
  {
   "cell_type": "markdown",
   "id": "dfe4647b-2848-4d77-a97e-2404703bc568",
   "metadata": {},
   "source": [
    "## decouple endpoint deployment from inference by using boto3 client "
   ]
  },
  {
   "cell_type": "code",
   "execution_count": null,
   "id": "d19de08c-b422-4bdb-8b68-e9a7c374f113",
   "metadata": {},
   "outputs": [],
   "source": [
    "inp_json = {\n",
    "\t\"inputs\": \"[INST] Explain what a Mixture of Experts is in less than 100 words. [/INST]\",\n",
    "    \"parameters\": {\n",
    "        \"do_sample\": True,\n",
    "        \"top_p\": 0.6,\n",
    "        \"temperature\": 0.9,\n",
    "        \"top_k\": 50,\n",
    "        \"max_new_tokens\": 1024,\n",
    "        \"repetition_penalty\": 1.03,\n",
    "        \"return_full_text\": False,\n",
    "        \"stop\": [\"</s>\"]\n",
    "    }\n",
    "}\n",
    "inp_request = json.dumps(inp_json)"
   ]
  },
  {
   "cell_type": "code",
   "execution_count": null,
   "id": "3759269e-c7a7-41bf-aafa-4640ad2b05cd",
   "metadata": {},
   "outputs": [],
   "source": [
    "smr =  boto3.client('sagemaker-runtime')\n",
    "response = smr.invoke_endpoint(\n",
    "    EndpointName=endpoint_name,\n",
    "    Body=inp_request,\n",
    "    ContentType='application/json'\n",
    ")\n",
    "result = json.loads(response['Body'].read().decode())"
   ]
  },
  {
   "cell_type": "code",
   "execution_count": null,
   "id": "adc9cd95-bda1-4285-a881-bee45113e415",
   "metadata": {},
   "outputs": [],
   "source": [
    "print(result[0]['generated_text'])"
   ]
  },
  {
   "cell_type": "code",
   "execution_count": null,
   "id": "a267464d-f415-4245-8492-e06f9943d8e5",
   "metadata": {},
   "outputs": [],
   "source": [
    "## cleanup after you done! \n",
    "smc.delete_endpoint(EndpointName=endpoint_name)\n",
    "smc.delete_endpoint_config(EndpointConfigName=endpoint_name)"
   ]
  }
 ],
 "metadata": {
  "kernelspec": {
   "display_name": "Python 3 (ipykernel)",
   "language": "python",
   "name": "python3"
  },
  "language_info": {
   "codemirror_mode": {
    "name": "ipython",
    "version": 3
   },
   "file_extension": ".py",
   "mimetype": "text/x-python",
   "name": "python",
   "nbconvert_exporter": "python",
   "pygments_lexer": "ipython3",
   "version": "3.10.13"
  }
 },
 "nbformat": 4,
 "nbformat_minor": 5
}
